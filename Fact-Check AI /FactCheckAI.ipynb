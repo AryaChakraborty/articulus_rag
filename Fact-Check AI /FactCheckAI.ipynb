{
 "cells": [
  {
   "cell_type": "code",
   "execution_count": 1,
   "id": "7f02e9bd",
   "metadata": {},
   "outputs": [],
   "source": [
    "import pandas as pd\n",
    "from sklearn.model_selection import train_test_split\n",
    "from tensorflow.keras.models import Sequential\n",
    "from tensorflow.keras.layers import Embedding, LSTM, Dense, Dropout, Bidirectional, SpatialDropout1D\n",
    "from tensorflow.keras.preprocessing.text import Tokenizer\n",
    "from tensorflow.keras.preprocessing.sequence import pad_sequences\n",
    "from tensorflow.keras.callbacks import EarlyStopping\n",
    "from sklearn.metrics import classification_report, confusion_matrix, accuracy_score"
   ]
  },
  {
   "cell_type": "code",
   "execution_count": 2,
   "id": "b87f1d28",
   "metadata": {},
   "outputs": [],
   "source": [
    "# Load dataset\n",
    "df = pd.read_json(\"C:\\\\Users\\\\Shaurya\\\\Downloads\\\\Dataset\\\\politifact_factcheck_data.json\", lines=True)"
   ]
  },
  {
   "cell_type": "code",
   "execution_count": 3,
   "id": "498da043",
   "metadata": {},
   "outputs": [],
   "source": [
    "# Clean text data\n",
    "def clean_text(text):\n",
    "    # Implement text cleaning here\n",
    "    return text\n",
    "\n",
    "df['cleaned_statement'] = df['statement'].apply(clean_text)\n",
    "\n",
    "# Binarize labels\n",
    "binary_map = {'true': 1, 'mostly-true': 1, 'half-true': 1, 'mostly-false': 0, 'false': 0, 'pants-fire': 0}\n",
    "df['binary_verdict'] = df['verdict'].map(binary_map)\n",
    "\n",
    "# Tokenization and Padding\n",
    "tokenizer = Tokenizer(num_words=5000)\n",
    "tokenizer.fit_on_texts(df['cleaned_statement'])\n",
    "sequences = tokenizer.texts_to_sequences(df['cleaned_statement'])\n",
    "padded_sequences = pad_sequences(sequences, maxlen=200)"
   ]
  },
  {
   "cell_type": "code",
   "execution_count": 4,
   "id": "994cdf52",
   "metadata": {},
   "outputs": [],
   "source": [
    "# Model parameters\n",
    "vocab_size = 5000  \n",
    "embedding_dim = 64\n",
    "max_length = 200 \n",
    "trunc_type = 'post'\n",
    "padding_type = 'post'"
   ]
  },
  {
   "cell_type": "code",
   "execution_count": 5,
   "id": "31b35b73",
   "metadata": {},
   "outputs": [],
   "source": [
    "# Build the model\n",
    "model = Sequential()\n",
    "model.add(Embedding(vocab_size, embedding_dim, input_length=max_length))\n",
    "model.add(SpatialDropout1D(0.4))  # Increased dropout for regularization\n",
    "model.add(Bidirectional(LSTM(64, dropout=0.3, recurrent_dropout=0.3)))\n",
    "model.add(Dense(64, activation='relu'))\n",
    "model.add(Dropout(0.4))  # Increased dropout for regularization\n",
    "model.add(Dense(1, activation='sigmoid'))"
   ]
  },
  {
   "cell_type": "code",
   "execution_count": 6,
   "id": "b38716f9",
   "metadata": {},
   "outputs": [
    {
     "name": "stdout",
     "output_type": "stream",
     "text": [
      "Model: \"sequential\"\n",
      "_________________________________________________________________\n",
      " Layer (type)                Output Shape              Param #   \n",
      "=================================================================\n",
      " embedding (Embedding)       (None, 200, 64)           320000    \n",
      "                                                                 \n",
      " spatial_dropout1d (Spatial  (None, 200, 64)           0         \n",
      " Dropout1D)                                                      \n",
      "                                                                 \n",
      " bidirectional (Bidirection  (None, 128)               66048     \n",
      " al)                                                             \n",
      "                                                                 \n",
      " dense (Dense)               (None, 64)                8256      \n",
      "                                                                 \n",
      " dropout (Dropout)           (None, 64)                0         \n",
      "                                                                 \n",
      " dense_1 (Dense)             (None, 1)                 65        \n",
      "                                                                 \n",
      "=================================================================\n",
      "Total params: 394369 (1.50 MB)\n",
      "Trainable params: 394369 (1.50 MB)\n",
      "Non-trainable params: 0 (0.00 Byte)\n",
      "_________________________________________________________________\n"
     ]
    }
   ],
   "source": [
    "model.compile(loss='binary_crossentropy', optimizer='adam', metrics=['accuracy'])\n",
    "model.summary()"
   ]
  },
  {
   "cell_type": "code",
   "execution_count": 7,
   "id": "106d5e4e",
   "metadata": {},
   "outputs": [],
   "source": [
    "# Splitting the dataset\n",
    "X_train, X_test, y_train, y_test = train_test_split(padded_sequences, df['binary_verdict'], test_size=0.2)"
   ]
  },
  {
   "cell_type": "code",
   "execution_count": 8,
   "id": "9c793948",
   "metadata": {},
   "outputs": [
    {
     "name": "stdout",
     "output_type": "stream",
     "text": [
      "Epoch 1/5\n",
      "529/529 [==============================] - 123s 222ms/step - loss: 0.6303 - accuracy: 0.6385 - val_loss: 0.6038 - val_accuracy: 0.6566\n",
      "Epoch 2/5\n",
      "529/529 [==============================] - 125s 236ms/step - loss: 0.5589 - accuracy: 0.7103 - val_loss: 0.6111 - val_accuracy: 0.6540\n",
      "Epoch 3/5\n",
      "529/529 [==============================] - 125s 236ms/step - loss: 0.5207 - accuracy: 0.7389 - val_loss: 0.6253 - val_accuracy: 0.6493\n",
      "Epoch 4/5\n",
      "529/529 [==============================] - 121s 229ms/step - loss: 0.4825 - accuracy: 0.7677 - val_loss: 0.6451 - val_accuracy: 0.6422\n"
     ]
    }
   ],
   "source": [
    "# Early stopping to prevent overfitting\n",
    "early_stop = EarlyStopping(monitor='val_loss', patience=3, restore_best_weights=True)\n",
    "\n",
    "# Train the model\n",
    "history = model.fit(X_train, y_train, epochs=5, validation_data=(X_test, y_test), callbacks=[early_stop])"
   ]
  },
  {
   "cell_type": "code",
   "execution_count": 9,
   "id": "fb051c81",
   "metadata": {},
   "outputs": [
    {
     "name": "stdout",
     "output_type": "stream",
     "text": [
      "133/133 [==============================] - 5s 31ms/step\n",
      "Accuracy:  0.6565823682344599\n",
      "\n",
      "Confusion Matrix:\n",
      " [[1508  840]\n",
      " [ 613 1270]]\n",
      "\n",
      "Classification Report:\n",
      "               precision    recall  f1-score   support\n",
      "\n",
      "           0       0.71      0.64      0.67      2348\n",
      "           1       0.60      0.67      0.64      1883\n",
      "\n",
      "    accuracy                           0.66      4231\n",
      "   macro avg       0.66      0.66      0.66      4231\n",
      "weighted avg       0.66      0.66      0.66      4231\n",
      "\n"
     ]
    }
   ],
   "source": [
    "# Evaluate the model\n",
    "predictions = model.predict(X_test)\n",
    "y_pred = [1 if p > 0.5 else 0 for p in predictions]\n",
    "\n",
    "print(\"Accuracy: \", accuracy_score(y_test, y_pred))\n",
    "print(\"\\nConfusion Matrix:\\n\", confusion_matrix(y_test, y_pred))\n",
    "print(\"\\nClassification Report:\\n\", classification_report(y_test, y_pred))"
   ]
  },
  {
   "cell_type": "code",
   "execution_count": 11,
   "id": "041b40a5",
   "metadata": {},
   "outputs": [
    {
     "data": {
      "text/plain": [
       "<matplotlib.legend.Legend at 0x1c157dc7e90>"
      ]
     },
     "execution_count": 11,
     "metadata": {},
     "output_type": "execute_result"
    },
    {
     "data": {
      "image/png": "[encoded data removed]",
      "text/plain": [
       "<Figure size 640x480 with 1 Axes>"
      ]
     },
     "metadata": {},
     "output_type": "display_data"
    }
   ],
   "source": [
    "# Plot training history\n",
    "import matplotlib.pyplot as plt\n",
    "plt.plot(history.history['accuracy'], label='accuracy')\n",
    "plt.plot(history.history['val_accuracy'], label = 'val_accuracy')\n",
    "plt.xlabel('Epoch')\n",
    "plt.ylabel('Accuracy')\n",
    "plt.ylim([0, 1])\n",
    "plt.legend(loc='lower right')"
   ]
  },
  {
   "cell_type": "code",
   "execution_count": null,
   "id": "b4ab1dab",
   "metadata": {},
   "outputs": [],
   "source": []
  }
 ],
 "metadata": {
  "kernelspec": {
   "display_name": "Python 3 (ipykernel)",
   "language": "python",
   "name": "python3"
  },
  "language_info": {
   "codemirror_mode": {
    "name": "ipython",
    "version": 3
   },
   "file_extension": ".py",
   "mimetype": "text/x-python",
   "name": "python",
   "nbconvert_exporter": "python",
   "pygments_lexer": "ipython3",
   "version": "3.11.5"
  }
 },
 "nbformat": 4,
 "nbformat_minor": 5
}
